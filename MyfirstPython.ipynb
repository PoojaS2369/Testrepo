{
  "metadata": {
    "language_info": {
      "codemirror_mode": {
        "name": "python",
        "version": 3
      },
      "file_extension": ".py",
      "mimetype": "text/x-python",
      "name": "python",
      "nbconvert_exporter": "python",
      "pygments_lexer": "ipython3",
      "version": "3.8"
    },
    "kernelspec": {
      "name": "python",
      "display_name": "Python (Pyodide)",
      "language": "python"
    }
  },
  "nbformat_minor": 4,
  "nbformat": 4,
  "cells": [
    {
      "cell_type": "markdown",
      "source": "1. Python\n2. Ruby\n3. Java\n4. R\n5. Scala",
      "metadata": {}
    },
    {
      "cell_type": "markdown",
      "source": "1. Tensorflow\n2. Pytorch\n3. Numpy\n4. Scipy\n5. Pandas\n6. keras\n7. Matplotlib\n8. caffe\n9. Bob\n10. BeutifulSoup",
      "metadata": {}
    },
    {
      "cell_type": "markdown",
      "source": "|Data Science Tools|\n--------------------\n|Tableau|\n|PowerBI|\n|Excel|\n|Matlab|\n|Jupyter Notebook|",
      "metadata": {}
    },
    {
      "cell_type": "markdown",
      "source": "below are few example of arithmatic expressions",
      "metadata": {}
    },
    {
      "cell_type": "code",
      "source": "(3*4)+10",
      "metadata": {
        "trusted": true
      },
      "execution_count": 1,
      "outputs": [
        {
          "execution_count": 1,
          "output_type": "execute_result",
          "data": {
            "text/plain": "22"
          },
          "metadata": {}
        }
      ]
    },
    {
      "cell_type": "code",
      "source": "min = 200\nhours = min/60\nprint(hours)",
      "metadata": {
        "trusted": true
      },
      "execution_count": 2,
      "outputs": [
        {
          "name": "stdout",
          "text": "3.3333333333333335\n",
          "output_type": "stream"
        }
      ]
    },
    {
      "cell_type": "markdown",
      "source": "- Collecting Data\n- Processing Data\n- Exploring and Visualizing data\n- Analyzing and apllying ML\n- Planning based acquired insight",
      "metadata": {}
    },
    {
      "cell_type": "markdown",
      "source": "# Auther's Name\n<br>\nPooja S",
      "metadata": {}
    },
    {
      "cell_type": "code",
      "source": "",
      "metadata": {},
      "execution_count": null,
      "outputs": []
    }
  ]
}